{
 "cells": [
  {
   "cell_type": "markdown",
   "metadata": {},
   "source": []
  },
  {
   "cell_type": "markdown",
   "metadata": {},
   "source": [
    "This code processes chlorophyll data from NJDEP. A file containing all data is 100MB.\n",
    "\n",
    "The final processed code is analyzed in file 2.2 Chl Analysis and Model.\n",
    "\n",
    "http://njdep.rutgers.edu/aircraft/"
   ]
  },
  {
   "cell_type": "code",
   "execution_count": 1,
   "metadata": {},
   "outputs": [],
   "source": [
    "import numpy as np\n",
    "import pandas as pd\n",
    "import datetime\n",
    "import urllib.request\n",
    "import netCDF4\n",
    "from netCDF4 import Dataset\n",
    "import xarray as xr\n",
    "import matplotlib.pyplot as plt"
   ]
  },
  {
   "cell_type": "code",
   "execution_count": 3,
   "metadata": {},
   "outputs": [
    {
     "data": {
      "text/html": [
       "<div>\n",
       "<style scoped>\n",
       "    .dataframe tbody tr th:only-of-type {\n",
       "        vertical-align: middle;\n",
       "    }\n",
       "\n",
       "    .dataframe tbody tr th {\n",
       "        vertical-align: top;\n",
       "    }\n",
       "\n",
       "    .dataframe thead th {\n",
       "        text-align: right;\n",
       "    }\n",
       "</style>\n",
       "<table border=\"1\" class=\"dataframe\">\n",
       "  <thead>\n",
       "    <tr style=\"text-align: right;\">\n",
       "      <th></th>\n",
       "      <th>lat</th>\n",
       "      <th>lng</th>\n",
       "      <th>chlora</th>\n",
       "    </tr>\n",
       "    <tr>\n",
       "      <th>date</th>\n",
       "      <th></th>\n",
       "      <th></th>\n",
       "      <th></th>\n",
       "    </tr>\n",
       "  </thead>\n",
       "  <tbody>\n",
       "    <tr>\n",
       "      <td>2007-05-21</td>\n",
       "      <td>40.463245</td>\n",
       "      <td>-74.235184</td>\n",
       "      <td>2.117404</td>\n",
       "    </tr>\n",
       "    <tr>\n",
       "      <td>2007-05-21</td>\n",
       "      <td>40.462158</td>\n",
       "      <td>-74.234329</td>\n",
       "      <td>1.384279</td>\n",
       "    </tr>\n",
       "    <tr>\n",
       "      <td>2007-05-21</td>\n",
       "      <td>40.461193</td>\n",
       "      <td>-74.233322</td>\n",
       "      <td>1.429075</td>\n",
       "    </tr>\n",
       "    <tr>\n",
       "      <td>2007-05-21</td>\n",
       "      <td>40.460308</td>\n",
       "      <td>-74.232178</td>\n",
       "      <td>1.494683</td>\n",
       "    </tr>\n",
       "    <tr>\n",
       "      <td>2007-05-21</td>\n",
       "      <td>40.459473</td>\n",
       "      <td>-74.230965</td>\n",
       "      <td>1.515220</td>\n",
       "    </tr>\n",
       "    <tr>\n",
       "      <td>2007-05-21</td>\n",
       "      <td>40.458725</td>\n",
       "      <td>-74.229668</td>\n",
       "      <td>1.678402</td>\n",
       "    </tr>\n",
       "    <tr>\n",
       "      <td>2007-05-21</td>\n",
       "      <td>40.458012</td>\n",
       "      <td>-74.228325</td>\n",
       "      <td>1.391031</td>\n",
       "    </tr>\n",
       "    <tr>\n",
       "      <td>2007-05-21</td>\n",
       "      <td>40.457371</td>\n",
       "      <td>-74.226936</td>\n",
       "      <td>1.541263</td>\n",
       "    </tr>\n",
       "    <tr>\n",
       "      <td>2007-05-21</td>\n",
       "      <td>40.456776</td>\n",
       "      <td>-74.225525</td>\n",
       "      <td>1.407845</td>\n",
       "    </tr>\n",
       "    <tr>\n",
       "      <td>2007-05-21</td>\n",
       "      <td>40.456192</td>\n",
       "      <td>-74.224091</td>\n",
       "      <td>1.416808</td>\n",
       "    </tr>\n",
       "  </tbody>\n",
       "</table>\n",
       "</div>"
      ],
      "text/plain": [
       "                  lat        lng    chlora\n",
       "date                                      \n",
       "2007-05-21  40.463245 -74.235184  2.117404\n",
       "2007-05-21  40.462158 -74.234329  1.384279\n",
       "2007-05-21  40.461193 -74.233322  1.429075\n",
       "2007-05-21  40.460308 -74.232178  1.494683\n",
       "2007-05-21  40.459473 -74.230965  1.515220\n",
       "2007-05-21  40.458725 -74.229668  1.678402\n",
       "2007-05-21  40.458012 -74.228325  1.391031\n",
       "2007-05-21  40.457371 -74.226936  1.541263\n",
       "2007-05-21  40.456776 -74.225525  1.407845\n",
       "2007-05-21  40.456192 -74.224091  1.416808"
      ]
     },
     "execution_count": 3,
     "metadata": {},
     "output_type": "execute_result"
    }
   ],
   "source": [
    "# Parse turns the data into Datetime format.\n",
    "# Index sets the date as the index - this step is important in later data condensing.\n",
    "njdep = pd.read_csv('./NJDEPaircraftData20070101_To_20191001.txt',parse_dates=['date'], index_col='date')\n",
    "njdep = njdep.drop('id', axis=1)\n",
    "njdep = njdep.drop('time', axis=1)\n",
    "njdep.head(10)"
   ]
  },
  {
   "cell_type": "code",
   "execution_count": null,
   "metadata": {},
   "outputs": [],
   "source": [
    "# NJ is around 40 N/S and -74 E/W\n",
    "# must trim out some bad data\n",
    "njdep = njdep[njdep.lat>38.5]"
   ]
  },
  {
   "cell_type": "code",
   "execution_count": null,
   "metadata": {},
   "outputs": [],
   "source": [
    "# This code plots a map of all points along New Jersey, but it takes a long time to process\n",
    "# figure displays 3.5 deg n/s and 2 deg e/w\n",
    "njdep.plot.scatter('lng','lat',figsize=(7, 14), s=0.1)"
   ]
  },
  {
   "cell_type": "code",
   "execution_count": null,
   "metadata": {
    "scrolled": false
   },
   "outputs": [],
   "source": [
    "# delaware bay is lon <-74.8 roughly\n",
    "delbay = njdep[njdep.lng<-74.8]\n",
    "delbay = delbay[delbay.lat>38.5]\n",
    "delbay = delbay[delbay.lat<39.5]\n",
    "# figure displays 1.0 deg n/s and 0.8 deg e/w\n",
    "delbay.plot.scatter('lng','lat',figsize=(8, 10),s=0.1) #s controls data point dot size"
   ]
  },
  {
   "cell_type": "code",
   "execution_count": null,
   "metadata": {},
   "outputs": [],
   "source": [
    "# This code redefines our dataframe to be only this subset of the delbay\n",
    "delbay = delbay[delbay.lng<-75.0]\n",
    "delbay = delbay[delbay.lng>-75.1]\n",
    "delbay = delbay[delbay.lat<39.15]\n",
    "delbay = delbay[delbay.lat>39.05]\n",
    "# figure displays 0.1 deg n/s and 0.1 deg e/w\n",
    "delbay.plot.scatter('lng','lat',figsize=(10, 10),s=0.1)"
   ]
  },
  {
   "cell_type": "code",
   "execution_count": null,
   "metadata": {
    "scrolled": true
   },
   "outputs": [],
   "source": [
    "# This creates a new dataframe where the all the data points from a single day are averaged into a single point. \n",
    "# This may be a little heavy-handed\n",
    "delbay_avg = delbay.resample('D').mean()\n",
    "delbay_avg"
   ]
  },
  {
   "cell_type": "code",
   "execution_count": null,
   "metadata": {},
   "outputs": [],
   "source": [
    "# Drop all the NaN values\n",
    "delbay_avg = delbay_avg.dropna(axis=0,how=\"any\")\n",
    "delbay_avg"
   ]
  },
  {
   "cell_type": "code",
   "execution_count": null,
   "metadata": {},
   "outputs": [],
   "source": [
    "# If you look at the headers of the previous tables, you will see that the column names aren't aligned correctly.\n",
    "# Alignment is necessary to call the column data. Resetting the index corrects the formatting, but changes the index.\n",
    "delbay_avg = delbay_avg.reset_index()\n",
    "delbay_avg"
   ]
  },
  {
   "cell_type": "code",
   "execution_count": null,
   "metadata": {},
   "outputs": [],
   "source": [
    "plot1 = delbay_avg.plot('date','chlora',figsize=(10, 10)) #style='.'"
   ]
  },
  {
   "cell_type": "code",
   "execution_count": null,
   "metadata": {
    "scrolled": false
   },
   "outputs": [],
   "source": [
    "plot2 = delbay_avg.plot('date','chlora',figsize=(10, 10), style='.') #"
   ]
  },
  {
   "cell_type": "code",
   "execution_count": null,
   "metadata": {},
   "outputs": [],
   "source": [
    "plot1 = delbay_avg.plot('date','chlora',figsize=(10, 10)) #style='.'\n",
    "plot1.set_xlim(pd.Timestamp('2016-01-01'), pd.Timestamp('2018-01-01'))"
   ]
  },
  {
   "cell_type": "code",
   "execution_count": null,
   "metadata": {},
   "outputs": [],
   "source": [
    "plot1 = delbay_avg.plot('date','chlora',figsize=(10, 10),style='.') #style='.'\n",
    "plot1.set_xlim(pd.Timestamp('2017-05-01'), pd.Timestamp('2017-10-01'))"
   ]
  },
  {
   "cell_type": "code",
   "execution_count": null,
   "metadata": {},
   "outputs": [],
   "source": [
    "delbay_avg.size"
   ]
  },
  {
   "cell_type": "code",
   "execution_count": null,
   "metadata": {},
   "outputs": [],
   "source": [
    "delbay_avg['chlora'].plot.hist(bins=15, figsize=(20, 20))"
   ]
  }
 ],
 "metadata": {
  "kernelspec": {
   "display_name": "Python 3",
   "language": "python",
   "name": "python3"
  },
  "language_info": {
   "codemirror_mode": {
    "name": "ipython",
    "version": 3
   },
   "file_extension": ".py",
   "mimetype": "text/x-python",
   "name": "python",
   "nbconvert_exporter": "python",
   "pygments_lexer": "ipython3",
   "version": "3.7.4"
  }
 },
 "nbformat": 4,
 "nbformat_minor": 2
}
